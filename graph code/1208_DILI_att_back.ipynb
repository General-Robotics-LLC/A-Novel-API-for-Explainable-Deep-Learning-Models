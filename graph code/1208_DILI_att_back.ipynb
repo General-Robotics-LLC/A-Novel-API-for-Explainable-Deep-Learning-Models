{
 "cells": [
  {
   "cell_type": "code",
   "execution_count": 1,
   "id": "476308cf",
   "metadata": {},
   "outputs": [],
   "source": [
    "import os\n",
    "dataset_name = 'DILI'\n",
    "# filename1 = dataset_name+'_only_sum_tloss.csv'\n",
    "# if os.path.exists(filename1):\n",
    "#     os.remove(filename1)\n",
    "filename2 = dataset_name+'_att_sum_vloss.csv'\n",
    "# if os.path.exists(filename2):\n",
    "#     os.remove(filename2)\n",
    "# filename3 = dataset_name+'_level_auc.csv'\n",
    "# if os.path.exists(filename3):\n",
    "#     os.remove(filename3)    "
   ]
  },
  {
   "cell_type": "code",
   "execution_count": 2,
   "id": "e803b4c4",
   "metadata": {},
   "outputs": [],
   "source": [
    "#fast hyperparameter\n",
    "parameters={\n",
    "    'l2_coeff':[1e-06],\n",
    "    'n_epochs':[100],    \n",
    "    \n",
    "#     'activation_func':[\"nn.GELU()\",\"nn.ELU()\",\"nn.ReLU()\"],\n",
    "    'type_conv':[3],\n",
    "#     'type_conv':[1],    \n",
    "#     'activation_func':[\"nn.SiLU()\",\"nn.GELU()\",\"nn.Hardswish()\"],    \n",
    "#     'n_conv':[14,7],      \n",
    "#     'batch_size':[64,256],        \n",
    "#     'lr' :[1e-04,5e-05,1e-05,5e-05,1e-06],\n",
    "    'lr' :[1e-04],    \n",
    "#     'lr' :[1e-03,5e-04,1e-04,5e-05,1e-05],\n",
    "#     'lr' :[1e-03],    \n",
    "#     'n_conv':[10,7,4],\n",
    "    'n_conv':[4],    \n",
    "    'seeds':[0],    \n",
    "    'batch_size':[64],        \n",
    "    'activation_func':[\"nn.GELU()\"],    \n",
    "    'Norm':[0], # None,PairNorm,BatchNorm,LayerNorm    \n",
    "    'skip':[1],    \n",
    "    \n",
    "    'hidden_layer':[256],\n",
    "#     'max_depth':[3,5,10,50],\n",
    "#     'n_estimators':[500,1000],\n",
    "#     'lr' :[1e-03,1e-04],    \n",
    "#     'pooling':['geonn.global_mean_pool','geonn.global_add_pool'],    \n",
    "#     'lr' :[1e-04],    \n",
    "#     'pooling':['geonn.global_mean_pool'],    \n",
    "#     'lr' :[1],        \n",
    "    'pooling':['geonn.global_add_pool'],   \n",
    "}"
   ]
  },
  {
   "cell_type": "code",
   "execution_count": 3,
   "id": "a1ffe2b2",
   "metadata": {},
   "outputs": [
    {
     "name": "stderr",
     "output_type": "stream",
     "text": [
      "/tmp/ipykernel_3454650/343306588.py:1: DeprecationWarning: Importing display from IPython.core.display is deprecated since IPython 7.14, please import from IPython display\n",
      "  from IPython.core.display import display, HTML\n"
     ]
    },
    {
     "data": {
      "text/html": [
       "<style>.container { width:100% !important; }</style>"
      ],
      "text/plain": [
       "<IPython.core.display.HTML object>"
      ]
     },
     "metadata": {},
     "output_type": "display_data"
    }
   ],
   "source": [
    "from IPython.core.display import display, HTML \n",
    "display(HTML(\"<style>.container { width:100% !important; }</style>\"))"
   ]
  },
  {
   "cell_type": "code",
   "execution_count": 4,
   "id": "1edf357d",
   "metadata": {},
   "outputs": [
    {
     "name": "stderr",
     "output_type": "stream",
     "text": [
      "/home/geonyeongchoi/anaconda3/envs/rdkit-env/lib/python3.9/site-packages/tqdm/auto.py:22: TqdmWarning: IProgress not found. Please update jupyter and ipywidgets. See https://ipywidgets.readthedocs.io/en/stable/user_install.html\n",
      "  from .autonotebook import tqdm as notebook_tqdm\n"
     ]
    },
    {
     "name": "stdout",
     "output_type": "stream",
     "text": [
      "Current cuda device  1\n",
      "NVIDIA GeForce RTX 2080 Ti\n",
      "Memory Usage:\n",
      "Allocated: 0.0 GB\n",
      "Cached:    0.0 GB\n"
     ]
    },
    {
     "name": "stderr",
     "output_type": "stream",
     "text": [
      "/home/geonyeongchoi/anaconda3/envs/rdkit-env/lib/python3.9/site-packages/torch/cuda/memory.py:384: FutureWarning: torch.cuda.memory_cached has been renamed to torch.cuda.memory_reserved\n",
      "  warnings.warn(\n"
     ]
    }
   ],
   "source": [
    "import torch\n",
    "GPU_NUM = 1 # 원하는 GPU 번호 입력\n",
    "torch.set_num_threads(1) \n",
    "device = torch.device(f'cuda:{GPU_NUM}' if torch.cuda.is_available() else 'cpu')\n",
    "torch.cuda.set_device(device) # change allocation of current GPU\n",
    "print ('Current cuda device ', torch.cuda.current_device()) # check\n",
    "\n",
    "# Additional Infos\n",
    "if device.type == 'cuda':\n",
    "    print(torch.cuda.get_device_name(GPU_NUM))\n",
    "    print('Memory Usage:')\n",
    "    print('Allocated:', round(torch.cuda.memory_allocated(GPU_NUM)/1024**3,1), 'GB')\n",
    "    print('Cached:   ', round(torch.cuda.memory_cached(GPU_NUM)/1024**3,1), 'GB')"
   ]
  },
  {
   "cell_type": "code",
   "execution_count": 5,
   "id": "4895e6bd",
   "metadata": {},
   "outputs": [
    {
     "data": {
      "application/javascript": [
       "\n",
       "console.log('Starting front end url_querystring_target comm target');\n",
       "const comm = Jupyter.notebook.kernel.comm_manager.new_comm('url_querystring_target', {'init': 1});\n",
       "comm.send({'ipyparams_browser_url': window.location.href});\n",
       "console.log('Sent window.location.href on url_querystring_target comm target');\n",
       "\n",
       "comm.on_msg(function(msg) {\n",
       "    console.log(msg.content.data);\n",
       "});\n"
      ],
      "text/plain": [
       "<IPython.core.display.Javascript object>"
      ]
     },
     "metadata": {},
     "output_type": "display_data"
    }
   ],
   "source": [
    "import numpy\n",
    "import pandas\n",
    "import numpy as np\n",
    "from tqdm import tqdm\n",
    "from sklearn import preprocessing\n",
    "from torch_geometric.data import Data\n",
    "import rdkit\n",
    "from rdkit import Chem\n",
    "from rdkit.Chem.Descriptors import ExactMolWt\n",
    "from rdkit import Chem\n",
    "from rdkit.Chem import AllChem\n",
    "from rdkit import DataStructs\n",
    "from rdkit.Chem import Crippen\n",
    "from rdkit.Chem import Descriptors\n",
    "from rdkit.Chem import Lipinski\n",
    "from rdkit.Chem import MolSurf\n",
    "from rdkit.Chem.Descriptors import ExactMolWt\n",
    "from sklearn.metrics import matthews_corrcoef, f1_score\n",
    "from sklearn.preprocessing import StandardScaler\n",
    "from torch.autograd import Variable\n",
    "import torch.nn.functional as F\n",
    "import torch_geometric.nn as geonn\n",
    "import torch.nn as nn\n",
    "import deepchem as dc\n",
    "import itertools\n",
    "import ipyparams\n",
    "from sklearn import metrics\n",
    "\n",
    "import argparse\n",
    "import itertools\n",
    "from func.f_DILI import *\n"
   ]
  },
  {
   "cell_type": "code",
   "execution_count": 6,
   "id": "13aed031",
   "metadata": {},
   "outputs": [
    {
     "name": "stdout",
     "output_type": "stream",
     "text": [
      "Load molecular structures...\n"
     ]
    },
    {
     "name": "stderr",
     "output_type": "stream",
     "text": [
      "100%|██████████████████████████████████████████████| 1204/1204 [00:07<00:00, 162.52it/s]\n"
     ]
    }
   ],
   "source": [
    "import numpy\n",
    "import random\n",
    "import pandas as pd\n",
    "import torch\n",
    "from torch_geometric.loader import DataLoader\n",
    "from sklearn.metrics import mean_squared_error\n",
    "from sklearn.metrics import r2_score\n",
    "\n",
    "# Load dataset\n",
    "print('Load molecular structures...')\n",
    "dataset_name = 'DILI'\n",
    "data = load_dataset_by_name(dataset_name)\n",
    "mols = data\n",
    "n_feats=len(mols[0].x[0])\n",
    "# dataset_name = 'testing'\n",
    "# test_data = load_dataset_by_name(dataset_name)"
   ]
  },
  {
   "cell_type": "code",
   "execution_count": 7,
   "id": "6c8bbb79",
   "metadata": {},
   "outputs": [],
   "source": [
    "def FNN_sequential(n_channels,actv):\n",
    "    fnn_layer = []\n",
    "    for i in range(2):\n",
    "        fnn_layer.append(nn.Linear(n_channels, n_channels))\n",
    "        fnn_layer.append(nn.BatchNorm1d(n_channels))            \n",
    "        fnn_layer.append(actv)      \n",
    "\n",
    "    return nn.Sequential(*fnn_layer)\n",
    "\n",
    "def FNN(in_channels,hid_channels,out_channels,actv):\n",
    "    fnn_layer = []\n",
    "    fnn_layer.append(nn.Linear(in_channels, hid_channels))\n",
    "    fnn_layer.append(nn.BatchNorm1d(hid_channels))            \n",
    "    fnn_layer.append(actv)      \n",
    "    \n",
    "    for i in range(4):\n",
    "        fnn_layer.append(nn.Linear(hid_channels, hid_channels))\n",
    "        fnn_layer.append(nn.BatchNorm1d(hid_channels))            \n",
    "        fnn_layer.append(actv)      \n",
    "        \n",
    "    fnn_layer.append(nn.Linear(hid_channels, out_channels))\n",
    "    \n",
    "    return nn.Sequential(*fnn_layer)"
   ]
  },
  {
   "cell_type": "code",
   "execution_count": 8,
   "id": "d120594f",
   "metadata": {},
   "outputs": [],
   "source": [
    "from torch_geometric.nn.inits import reset\n",
    "\n",
    "\n",
    "class multihead(nn.Module):\n",
    "    def __init__(self,t):\n",
    "        super(multihead, self).__init__()\n",
    "        self.lin_q = nn.ModuleList()\n",
    "        self.lin_k = nn.ModuleList()\n",
    "        self.lin_v = nn.ModuleList()\n",
    "        \n",
    "        self.soft = nn.Softmax(dim=1)        \n",
    "        self.sqrt = math.sqrt(256)\n",
    "        self.mh = nn.Linear(1024,256)\n",
    "        \n",
    "        self.type = t\n",
    "        \n",
    "        for _ in range(4):\n",
    "            self.lin_q.append(nn.Linear(256,256))\n",
    "            self.lin_k.append(nn.Linear(256,256))\n",
    "            self.lin_v.append(nn.Linear(256,256))        \n",
    "\n",
    "                \n",
    "    def forward(self,q,k,v,b_q,b_kv): \n",
    "        \n",
    "        e3fp = []\n",
    "        for i in range(4):\n",
    "            qry = self.lin_q[i](q)         \n",
    "            key = self.lin_k[i](k)\n",
    "            val = self.lin_v[i](v)\n",
    "            \n",
    "            if(self.type == 'e3fp'):\n",
    "                att = torch.cat([self.soft(qry[(each_q==b_q).view(-1)]@key[each_q==b_kv.view(-1)].T)@val[each_q==b_kv.view(-1)] for each_q in b_q])                \n",
    "            else:\n",
    "                att = torch.cat([self.soft(qry[each_q].view(1,-1)@key[each_q==b_kv.view(-1)].T)@val[each_q==b_kv.view(-1)] for each_q in b_q])            \n",
    "            \n",
    "            e3fp.append(att)\n",
    "\n",
    "#         if(self.type == 'e3fp'):\n",
    "#             e3fp = [torch.cat([self.soft(self.lin_q[i](q)[(each_q==b_q).view(-1)]@self.lin_k[i](k)[each_q==b_kv.view(-1)].T)@self.lin_v[i](v)[each_q==b_kv.view(-1)] for each_q in b_q]) for i in range(4)]\n",
    "#         else:\n",
    "#             e3fp = [torch.cat([self.soft(self.lin_q[i](q)[each_q].view(1,-1)@self.lin_k[i](k)[each_q==b_kv.view(-1)].T)@self.lin_v[i](v)[each_q==b_kv.view(-1)] for each_q in b_q]) for i in range(4)]    \n",
    "        e3fp = self.mh(torch.cat(e3fp,dim=1))                \n",
    "        \n",
    "        return e3fp\n",
    "        \n",
    "class MAB(nn.Module):\n",
    "    def __init__(self):\n",
    "        super(MAB, self).__init__()\n",
    "        self.layernorm1 = nn.LayerNorm(256)\n",
    "        self.layernorm2 = nn.LayerNorm(256)\n",
    "        self.lin = nn.Linear(256,256)\n",
    "        self.mh = multihead('else')\n",
    "        \n",
    "    def forward(self,q,k,v,b_q,b_kv):        \n",
    "        h = self.layernorm1(q+self.mh(q,k,v,b_q,b_kv))\n",
    "        return self.layernorm2(h+self.lin(h))\n",
    "        \n",
    "class multihead_last(nn.Module):\n",
    "    def __init__(self):\n",
    "        super(multihead_last, self).__init__()\n",
    "        self.lin_q = nn.ModuleList()\n",
    "        self.lin_k1 = nn.ModuleList()\n",
    "        self.lin_k2 = nn.ModuleList()\n",
    "        self.lin_k3 = nn.ModuleList()\n",
    "        \n",
    "        self.lin_v1 = nn.ModuleList()\n",
    "        self.lin_v2 = nn.ModuleList()\n",
    "        self.lin_v3 = nn.ModuleList()        \n",
    "        \n",
    "        self.soft = nn.Softmax(dim=1)        \n",
    "        self.sqrt = math.sqrt(256)\n",
    "        self.mh = nn.Linear(1024,256)\n",
    "        \n",
    "        self.layernorm1 = nn.LayerNorm(256)\n",
    "        self.layernorm2 = nn.LayerNorm(256)\n",
    "        self.lin = nn.Linear(256,256)        \n",
    "        \n",
    "        for _ in range(4):\n",
    "            self.lin_q.append(nn.Linear(256,256))\n",
    "            self.lin_k1.append(nn.Linear(256,256))\n",
    "            self.lin_k2.append(nn.Linear(256,256))\n",
    "            self.lin_k3.append(nn.Linear(256,256))\n",
    "            \n",
    "            self.lin_v1.append(nn.Linear(256,256))        \n",
    "            self.lin_v2.append(nn.Linear(256,256))        \n",
    "            self.lin_v3.append(nn.Linear(256,256))                    \n",
    "                \n",
    "    def forward(self,q,k1,k2,k3,v1,v2,v3,b_q): \n",
    "        \n",
    "            e3fp = [torch.cat([self.soft(self.lin_q[i](q)[each_q].view(1,-1)@torch.cat((self.lin_k1[i](k1)[each_q].view(1,-1),self.lin_k2[i](k2)[each_q].view(1,-1),self.lin_k3[i](k3)[each_q].view(1,-1)),dim = 0).T)@\n",
    "                         torch.cat((self.lin_v1[i](v1)[each_q].view(1,-1),self.lin_v2[i](v2)[each_q].view(1,-1),self.lin_v3[i](v3)[each_q].view(1,-1)),dim = 0) for each_q in b_q]) for i in range(4)]\n",
    "    \n",
    "            e3fp = self.mh(torch.cat(e3fp,dim=1))        \n",
    "\n",
    "            h = self.layernorm1(q+e3fp)\n",
    "            h = self.layernorm2(h+self.lin(h))\n",
    "\n",
    "            return h"
   ]
  },
  {
   "cell_type": "code",
   "execution_count": 9,
   "id": "d6c8005b",
   "metadata": {},
   "outputs": [],
   "source": [
    "n"
   ]
  },
  {
   "cell_type": "code",
   "execution_count": 10,
   "id": "ee3d30c4",
   "metadata": {},
   "outputs": [],
   "source": [
    "def loss_gen(model, optimizer, data_loader, criterion,device):\n",
    "    model.train()\n",
    "    train_loss = 0\n",
    "    \n",
    "    for i, (batch) in enumerate(data_loader):\n",
    "        \n",
    "        batch=batch.to(device)\n",
    "        pred = model(batch)\n",
    "        loss = criterion(pred,batch.y)\n",
    "        optimizer.zero_grad()\n",
    "        loss.backward()\n",
    "#         optimizer.step()\n",
    "        \n",
    "        train_loss += loss.detach().item()\n",
    "\n",
    "    return train_loss / len(data_loader)"
   ]
  },
  {
   "cell_type": "code",
   "execution_count": 11,
   "id": "91651e07",
   "metadata": {},
   "outputs": [],
   "source": [
    "def loss_gen_pos(model, optimizer, data_loader, criterion,device):\n",
    "    model.train()\n",
    "    train_loss = 0\n",
    "    \n",
    "    for i, (batch) in enumerate(data_loader):\n",
    "        \n",
    "        batch=batch.to(device)\n",
    "        pred = model(batch)\n",
    "        loss = criterion(pred,batch.pos_y)\n",
    "        optimizer.zero_grad()\n",
    "        loss.backward()\n",
    "#         optimizer.step()\n",
    "        \n",
    "        train_loss += loss.detach().item()\n",
    "\n",
    "    return train_loss / len(data_loader)"
   ]
  },
  {
   "cell_type": "code",
   "execution_count": 12,
   "id": "e15203f8",
   "metadata": {},
   "outputs": [],
   "source": [
    "def loss_gen_neg(model, optimizer, data_loader, criterion,device):\n",
    "    model.train()\n",
    "    train_loss = 0\n",
    "    \n",
    "    for i, (batch) in enumerate(data_loader):\n",
    "        \n",
    "        batch=batch.to(device)\n",
    "        pred = model(batch)\n",
    "        loss = criterion(pred,batch.neg_y)\n",
    "        optimizer.zero_grad()\n",
    "        loss.backward()\n",
    "#         optimizer.step()\n",
    "        \n",
    "        train_loss += loss.detach().item()\n",
    "\n",
    "    return train_loss / len(data_loader)"
   ]
  },
  {
   "cell_type": "code",
   "execution_count": 13,
   "id": "4b5f6cfb",
   "metadata": {},
   "outputs": [],
   "source": [
    "def activation_hook_fn(module, input, output):\n",
    "    activation_values.append(output.detach())\n",
    "    \n",
    "def gradient_hook_fn(module, grad_input, grad_output):\n",
    "    activation_derivatives.append(grad_output[0].detach())    "
   ]
  },
  {
   "cell_type": "code",
   "execution_count": 14,
   "id": "048429de",
   "metadata": {},
   "outputs": [
    {
     "name": "stdout",
     "output_type": "stream",
     "text": [
      "current comb 0 / 1\n"
     ]
    }
   ],
   "source": [
    "vvv = pandas.DataFrame()\n",
    "keys = parameters.keys()\n",
    "values = (parameters[key] for key in keys)\n",
    "combinations = [dict(zip(keys, combination)) for combination in itertools.product(*values)]    \n",
    "for e_num,name in enumerate(combinations):\n",
    "    print(\"current comb\",e_num,\"/\",len(combinations))\n",
    "    paser = argparse.ArgumentParser()\n",
    "    args = paser.parse_args(\"\")\n",
    "\n",
    "\n",
    "    for k, v in name.items():\n",
    "        exec('args.%s = %s' % (k, v))\n",
    "        exec('%s = %s' % (k, v))  "
   ]
  },
  {
   "cell_type": "code",
   "execution_count": 15,
   "id": "df3ff173",
   "metadata": {},
   "outputs": [],
   "source": [
    "cpu_actv = torch.tensor(np.ones((len(mols),256)),dtype=torch.float)\n",
    "cpu_derv = torch.tensor(np.ones((len(mols),256)),dtype=torch.float)\n",
    "\n",
    "for idx in range(len(mols)):\n",
    "    mols[idx]['actv_pos'] = cpu_actv[idx].view(1, -1)\n",
    "    mols[idx]['derv_pos'] = cpu_derv[idx].view(1, -1)    \n",
    "    \n",
    "cpu_actv = torch.tensor(np.zeros((len(mols),256)),dtype=torch.float)\n",
    "cpu_derv = torch.tensor(np.zeros((len(mols),256)),dtype=torch.float)\n",
    "\n",
    "for idx in range(len(mols)):\n",
    "    mols[idx]['actv_neg'] = cpu_actv[idx].view(1, -1)\n",
    "    mols[idx]['derv_neg'] = cpu_derv[idx].view(1, -1)        \n",
    "    \n",
    "for each_mol in mols:\n",
    "    each_mol['pos_y'] = torch.tensor(1, dtype=torch.float).view(1, 1)\n",
    "    each_mol['neg_y'] = torch.tensor(0, dtype=torch.float).view(1, 1)        "
   ]
  },
  {
   "cell_type": "code",
   "execution_count": 16,
   "id": "02845e4f",
   "metadata": {},
   "outputs": [],
   "source": [
    "# model = GNN_vanilla(args,n_feats).to(device) #모델 새로 정의\n",
    "# optimizer = torch.optim.Adam(model.parameters(), lr=lr, weight_decay=l2_coeff)\n",
    "# criterion = torch.nn.BCELoss()\n",
    "# forward_hook_handle.remove()\n",
    "# backward_hook_handle.remove()    \n",
    "# def activation_hook_fn(module, input, output):\n",
    "#     activation_values.append(output.detach())\n",
    "\n",
    "\n",
    "# # Register hooks\n",
    "# forward_hook_handle = model.activation.register_forward_hook(activation_hook_fn)\n",
    "# backward_hook_handle = model.activation.register_backward_hook(gradient_hook_fn)\n",
    "# # forward_hook_handle.remove()\n",
    "# # backward_hook_handle.remove()"
   ]
  },
  {
   "cell_type": "code",
   "execution_count": 17,
   "id": "9422ec4d",
   "metadata": {},
   "outputs": [],
   "source": [
    "all_loader= DataLoader(mols, batch_size=batch_size, shuffle=False)"
   ]
  },
  {
   "cell_type": "code",
   "execution_count": 18,
   "id": "5bdfcaec",
   "metadata": {},
   "outputs": [],
   "source": [
    "mols_y = np.array([int(each_mol['y']) for each_mol in mols])"
   ]
  },
  {
   "cell_type": "code",
   "execution_count": 19,
   "id": "42cea55c",
   "metadata": {},
   "outputs": [],
   "source": [
    "# activation_values = []\n",
    "# activation_derivatives = []\n",
    "# _=loss_gen_pos(model, optimizer, all_loader, criterion,device) \n",
    "# cpu_actv = torch.cat(activation_values).cpu()\n",
    "# cpu_derv = torch.cat(activation_derivatives).cpu()"
   ]
  },
  {
   "cell_type": "code",
   "execution_count": 20,
   "id": "1863a5cc",
   "metadata": {},
   "outputs": [],
   "source": [
    "# activation_values = []\n",
    "# activation_derivatives = []\n",
    "# _=loss_gen_pos(model, optimizer, all_loader, criterion,device) \n",
    "# cpu_actv = torch.cat(activation_values).cpu()\n",
    "# cpu_derv = torch.cat(activation_derivatives).cpu()\n",
    "\n",
    "# for idx in range(len(mols)):\n",
    "#     mols[idx]['actv_pos'] = cpu_actv[idx].view(1, -1)\n",
    "#     mols[idx]['derv_pos'] = cpu_derv[idx].view(1, -1)    \n",
    "    \n",
    "# activation_values = []\n",
    "# activation_derivatives = []\n",
    "# _=loss_gen_neg(model, optimizer, all_loader, criterion,device) \n",
    "# cpu_actv = torch.cat(activation_values).cpu()\n",
    "# cpu_derv = torch.cat(activation_derivatives).cpu()\n",
    "\n",
    "# for idx in range(len(mols)):\n",
    "#     mols[idx]['actv_neg'] = cpu_actv[idx].view(1, -1)\n",
    "#     mols[idx]['derv_neg'] = cpu_derv[idx].view(1, -1)        "
   ]
  },
  {
   "cell_type": "code",
   "execution_count": 21,
   "id": "ee565887",
   "metadata": {},
   "outputs": [],
   "source": [
    "# activation_values = []\n",
    "# activation_derivatives = []\n",
    "# _=loss_gen(model, optimizer, all_loader, criterion,device) "
   ]
  },
  {
   "cell_type": "code",
   "execution_count": 22,
   "id": "c3b0bf8f",
   "metadata": {},
   "outputs": [],
   "source": [
    "# torch.cat(activation_derivatives).cpu().shape"
   ]
  },
  {
   "cell_type": "code",
   "execution_count": 23,
   "id": "ae036021",
   "metadata": {},
   "outputs": [],
   "source": [
    "import umap\n",
    "import matplotlib.pyplot as plt\n",
    "# reducer = umap.UMAP()\n",
    "# features = np.array(torch.cat(activation_values).cpu())\n",
    "# embedding = reducer.fit_transform(features)\n",
    "\n",
    "# plt.scatter(embedding[:, 0], embedding[:, 1], c=mols_y, cmap='Spectral', s=5)\n",
    "# plt.colorbar()\n",
    "# plt.title('UMAP projection of the DILIst dataset')\n",
    "# plt.show()\n"
   ]
  },
  {
   "cell_type": "code",
   "execution_count": 24,
   "id": "08c33e2c",
   "metadata": {},
   "outputs": [],
   "source": [
    "# import umap\n",
    "# import matplotlib.pyplot as plt\n",
    "\n",
    "# reducer = umap.UMAP()\n",
    "# features = np.array(torch.cat(activation_derivatives).cpu())\n",
    "# embedding = reducer.fit_transform(features)\n",
    "\n",
    "# plt.scatter(embedding[:, 0], embedding[:, 1], c=mols_y, cmap='Spectral', s=5)\n",
    "# plt.colorbar()\n",
    "# plt.title('UMAP projection of the DILIst dataset')\n",
    "# plt.show()\n"
   ]
  },
  {
   "cell_type": "code",
   "execution_count": 25,
   "id": "2dae0bca",
   "metadata": {
    "collapsed": true
   },
   "outputs": [
    {
     "name": "stdout",
     "output_type": "stream",
     "text": [
      "current comb 0 / 1\n"
     ]
    },
    {
     "name": "stderr",
     "output_type": "stream",
     "text": [
      " 98%|███████████████████████████████████████████████ | 98/100 [1:20:38<01:38, 49.37s/it]\n"
     ]
    },
    {
     "ename": "KeyboardInterrupt",
     "evalue": "",
     "output_type": "error",
     "traceback": [
      "\u001b[0;31m---------------------------------------------------------------------------\u001b[0m",
      "\u001b[0;31mKeyboardInterrupt\u001b[0m                         Traceback (most recent call last)",
      "Input \u001b[0;32mIn [25]\u001b[0m, in \u001b[0;36m<cell line: 28>\u001b[0;34m()\u001b[0m\n\u001b[1;32m    110\u001b[0m backward_hook_handle\u001b[38;5;241m.\u001b[39mremove()\n\u001b[1;32m    111\u001b[0m v_l \u001b[38;5;241m=\u001b[39m cal_loss(model, optimizer, valid_loader, criterion,device)  \n\u001b[0;32m--> 112\u001b[0m t_l \u001b[38;5;241m=\u001b[39m \u001b[43mtrain\u001b[49m\u001b[43m(\u001b[49m\u001b[43mmodel\u001b[49m\u001b[43m,\u001b[49m\u001b[43m \u001b[49m\u001b[43moptimizer\u001b[49m\u001b[43m,\u001b[49m\u001b[43m \u001b[49m\u001b[43mtrain_loader\u001b[49m\u001b[43m,\u001b[49m\u001b[43m \u001b[49m\u001b[43mcriterion\u001b[49m\u001b[43m,\u001b[49m\u001b[43mdevice\u001b[49m\u001b[43m)\u001b[49m  \n\u001b[1;32m    114\u001b[0m forward_hook_handle \u001b[38;5;241m=\u001b[39m model\u001b[38;5;241m.\u001b[39mactivation\u001b[38;5;241m.\u001b[39mregister_forward_hook(activation_hook_fn)\n\u001b[1;32m    115\u001b[0m backward_hook_handle \u001b[38;5;241m=\u001b[39m model\u001b[38;5;241m.\u001b[39mactivation\u001b[38;5;241m.\u001b[39mregister_backward_hook(gradient_hook_fn)\n",
      "File \u001b[0;32m~/DILI_fin/func/f_DILI.py:317\u001b[0m, in \u001b[0;36mtrain\u001b[0;34m(model, optimizer, data_loader, criterion, device)\u001b[0m\n\u001b[1;32m    315\u001b[0m loss \u001b[38;5;241m=\u001b[39m criterion(pred,batch\u001b[38;5;241m.\u001b[39my)\n\u001b[1;32m    316\u001b[0m optimizer\u001b[38;5;241m.\u001b[39mzero_grad()\n\u001b[0;32m--> 317\u001b[0m \u001b[43mloss\u001b[49m\u001b[38;5;241;43m.\u001b[39;49m\u001b[43mbackward\u001b[49m\u001b[43m(\u001b[49m\u001b[43m)\u001b[49m\n\u001b[1;32m    318\u001b[0m optimizer\u001b[38;5;241m.\u001b[39mstep()\n\u001b[1;32m    320\u001b[0m train_loss \u001b[38;5;241m+\u001b[39m\u001b[38;5;241m=\u001b[39m loss\u001b[38;5;241m.\u001b[39mdetach()\u001b[38;5;241m.\u001b[39mitem()\n",
      "File \u001b[0;32m~/anaconda3/envs/rdkit-env/lib/python3.9/site-packages/torch/_tensor.py:363\u001b[0m, in \u001b[0;36mTensor.backward\u001b[0;34m(self, gradient, retain_graph, create_graph, inputs)\u001b[0m\n\u001b[1;32m    354\u001b[0m \u001b[38;5;28;01mif\u001b[39;00m has_torch_function_unary(\u001b[38;5;28mself\u001b[39m):\n\u001b[1;32m    355\u001b[0m     \u001b[38;5;28;01mreturn\u001b[39;00m handle_torch_function(\n\u001b[1;32m    356\u001b[0m         Tensor\u001b[38;5;241m.\u001b[39mbackward,\n\u001b[1;32m    357\u001b[0m         (\u001b[38;5;28mself\u001b[39m,),\n\u001b[0;32m   (...)\u001b[0m\n\u001b[1;32m    361\u001b[0m         create_graph\u001b[38;5;241m=\u001b[39mcreate_graph,\n\u001b[1;32m    362\u001b[0m         inputs\u001b[38;5;241m=\u001b[39minputs)\n\u001b[0;32m--> 363\u001b[0m \u001b[43mtorch\u001b[49m\u001b[38;5;241;43m.\u001b[39;49m\u001b[43mautograd\u001b[49m\u001b[38;5;241;43m.\u001b[39;49m\u001b[43mbackward\u001b[49m\u001b[43m(\u001b[49m\u001b[38;5;28;43mself\u001b[39;49m\u001b[43m,\u001b[49m\u001b[43m \u001b[49m\u001b[43mgradient\u001b[49m\u001b[43m,\u001b[49m\u001b[43m \u001b[49m\u001b[43mretain_graph\u001b[49m\u001b[43m,\u001b[49m\u001b[43m \u001b[49m\u001b[43mcreate_graph\u001b[49m\u001b[43m,\u001b[49m\u001b[43m \u001b[49m\u001b[43minputs\u001b[49m\u001b[38;5;241;43m=\u001b[39;49m\u001b[43minputs\u001b[49m\u001b[43m)\u001b[49m\n",
      "File \u001b[0;32m~/anaconda3/envs/rdkit-env/lib/python3.9/site-packages/torch/autograd/__init__.py:173\u001b[0m, in \u001b[0;36mbackward\u001b[0;34m(tensors, grad_tensors, retain_graph, create_graph, grad_variables, inputs)\u001b[0m\n\u001b[1;32m    168\u001b[0m     retain_graph \u001b[38;5;241m=\u001b[39m create_graph\n\u001b[1;32m    170\u001b[0m \u001b[38;5;66;03m# The reason we repeat same the comment below is that\u001b[39;00m\n\u001b[1;32m    171\u001b[0m \u001b[38;5;66;03m# some Python versions print out the first line of a multi-line function\u001b[39;00m\n\u001b[1;32m    172\u001b[0m \u001b[38;5;66;03m# calls in the traceback and some print out the last line\u001b[39;00m\n\u001b[0;32m--> 173\u001b[0m \u001b[43mVariable\u001b[49m\u001b[38;5;241;43m.\u001b[39;49m\u001b[43m_execution_engine\u001b[49m\u001b[38;5;241;43m.\u001b[39;49m\u001b[43mrun_backward\u001b[49m\u001b[43m(\u001b[49m\u001b[43m  \u001b[49m\u001b[38;5;66;43;03m# Calls into the C++ engine to run the backward pass\u001b[39;49;00m\n\u001b[1;32m    174\u001b[0m \u001b[43m    \u001b[49m\u001b[43mtensors\u001b[49m\u001b[43m,\u001b[49m\u001b[43m \u001b[49m\u001b[43mgrad_tensors_\u001b[49m\u001b[43m,\u001b[49m\u001b[43m \u001b[49m\u001b[43mretain_graph\u001b[49m\u001b[43m,\u001b[49m\u001b[43m \u001b[49m\u001b[43mcreate_graph\u001b[49m\u001b[43m,\u001b[49m\u001b[43m \u001b[49m\u001b[43minputs\u001b[49m\u001b[43m,\u001b[49m\n\u001b[1;32m    175\u001b[0m \u001b[43m    \u001b[49m\u001b[43mallow_unreachable\u001b[49m\u001b[38;5;241;43m=\u001b[39;49m\u001b[38;5;28;43;01mTrue\u001b[39;49;00m\u001b[43m,\u001b[49m\u001b[43m \u001b[49m\u001b[43maccumulate_grad\u001b[49m\u001b[38;5;241;43m=\u001b[39;49m\u001b[38;5;28;43;01mTrue\u001b[39;49;00m\u001b[43m)\u001b[49m\n",
      "\u001b[0;31mKeyboardInterrupt\u001b[0m: "
     ]
    }
   ],
   "source": [
    "from sklearn.metrics import mean_squared_error\n",
    "import math\n",
    "from copy import copy\n",
    "\n",
    "tr_loss_rec = []\n",
    "val_loss_rec = []\n",
    "vt_all_rec = []\n",
    "train_rec = pandas.DataFrame()\n",
    "valid_rec = pandas.DataFrame()\n",
    "test_rec = pandas.DataFrame()\n",
    "train_rec2 = pandas.DataFrame()\n",
    "test_rec2 = pandas.DataFrame()\n",
    "vt_rec = pandas.DataFrame()\n",
    "train_rec3 = pandas.DataFrame()\n",
    "valid_rec3 = pandas.DataFrame()\n",
    "test_rec3 = pandas.DataFrame()\n",
    "\n",
    "data_test= [i.smiles for i in mols]\n",
    "dataset = dc.data.DiskDataset.from_numpy(X=np.zeros(len(data_test)),ids=data_test)\n",
    "mols_y = [int(each_mol['y']) for each_mol in mols]\n",
    "splitter = dc.splits.ScaffoldSplitter()\n",
    "\n",
    "vvv = pandas.DataFrame()\n",
    "keys = parameters.keys()\n",
    "values = (parameters[key] for key in keys)\n",
    "combinations = [dict(zip(keys, combination)) for combination in itertools.product(*values)]    \n",
    "\n",
    "for e_num,name in enumerate(combinations):\n",
    "    print(\"current comb\",e_num,\"/\",len(combinations))\n",
    "    paser = argparse.ArgumentParser()\n",
    "    args = paser.parse_args(\"\")\n",
    "\n",
    "\n",
    "    for k, v in name.items():\n",
    "        exec('args.%s = %s' % (k, v))\n",
    "        exec('%s = %s' % (k, v))  \n",
    "        \n",
    "    ind_mols = np.array(range(len(mols)))\n",
    "    random.seed(42)\n",
    "    random.shuffle(ind_mols)\n",
    "    shuffled_mols = [mols[sn] for sn in ind_mols]\n",
    "\n",
    "    mols_y = [int(each_mol['y']) for each_mol in shuffled_mols]\n",
    "    splitter = dc.splits.ScaffoldSplitter()       \n",
    "\n",
    "    data_test= [i.smiles for i in shuffled_mols]\n",
    "    dataset = dc.data.DiskDataset.from_numpy(X=np.zeros(len(data_test)),ids=data_test)        \n",
    "\n",
    "    tr_ind,val_ind,ts_ind = splitter.split(dataset,frac_train=0.8,frac_valid=0.1,frac_test=0.1)  \n",
    "    vt_ind = copy(val_ind)\n",
    "    vt_ind.extend(ts_ind)        \n",
    "\n",
    "    X_tr,y_tr   = [shuffled_mols[i] for i in tr_ind] ,[mols_y[i] for i in tr_ind]\n",
    "    X_val,y_val = [shuffled_mols[i] for i in val_ind],[mols_y[i] for i in val_ind]\n",
    "    X_ts,y_ts   = [shuffled_mols[i] for i in ts_ind] ,[mols_y[i] for i in ts_ind]\n",
    "\n",
    "    X_vt,y_vt = [shuffled_mols[i] for i in vt_ind],[mols_y[i] for i in vt_ind]\n",
    "\n",
    "    all_loader= DataLoader(mols, batch_size=batch_size, shuffle=False)\n",
    "    train_loader = DataLoader(X_tr, batch_size=batch_size, shuffle=True)\n",
    "    train_loader_no_shuffle = DataLoader(X_tr, batch_size=batch_size, shuffle=False)\n",
    "\n",
    "    valid_loader = DataLoader(X_val, batch_size=batch_size, shuffle=False)\n",
    "    test_loader = DataLoader(X_ts, batch_size=batch_size, shuffle=False)\n",
    "\n",
    "    vt_loader = DataLoader(X_vt, batch_size=batch_size, shuffle=False)        \n",
    "\n",
    "    stop_std = 100\n",
    "    stop_std2 = 100\n",
    "    stop_std3 = 0\n",
    "        \n",
    "    model = GNN_vanilla(args,n_feats).to(device)\n",
    "    optimizer = torch.optim.Adam(model.parameters(), lr=lr, weight_decay=l2_coeff)\n",
    "    criterion = torch.nn.BCELoss()\n",
    "    \n",
    "    forward_hook_handle = model.activation.register_forward_hook(activation_hook_fn)\n",
    "    backward_hook_handle = model.activation.register_backward_hook(gradient_hook_fn)\n",
    "    \n",
    "    activation_values = []\n",
    "    activation_derivatives = []\n",
    "    _=loss_gen_pos(model, optimizer, all_loader, criterion,device) \n",
    "    \n",
    "    cpu_actv = torch.cat(activation_values).cpu()\n",
    "    cpu_derv = torch.cat(activation_derivatives).cpu()\n",
    "\n",
    "    for idx in range(len(mols)):\n",
    "        mols[idx]['actv_pos'] = cpu_actv[idx].view(1, -1)\n",
    "        mols[idx]['derv_pos'] = cpu_derv[idx].view(1, -1)    \n",
    "\n",
    "    activation_values = []\n",
    "    activation_derivatives = []\n",
    "    _=loss_gen_neg(model, optimizer, all_loader, criterion,device) \n",
    "    cpu_actv = torch.cat(activation_values).cpu()\n",
    "    cpu_derv = torch.cat(activation_derivatives).cpu()    \n",
    "    \n",
    "    activation_values = []\n",
    "    activation_derivatives = []\n",
    "    _=loss_gen_neg(model, optimizer, all_loader, criterion,device) \n",
    "    cpu_actv = torch.cat(activation_values).cpu()\n",
    "    cpu_derv = torch.cat(activation_derivatives).cpu()\n",
    "\n",
    "    for idx in range(len(mols)):\n",
    "        mols[idx]['actv_neg'] = cpu_actv[idx].view(1, -1)\n",
    "        mols[idx]['derv_neg'] = cpu_derv[idx].view(1, -1)     \n",
    "    vv = []\n",
    "        \n",
    "    for i in tqdm(range(1,n_epochs+1)):\n",
    "        \n",
    "        forward_hook_handle.remove()\n",
    "        backward_hook_handle.remove()\n",
    "        v_l = cal_loss(model, optimizer, valid_loader, criterion,device)  \n",
    "        t_l = train(model, optimizer, train_loader, criterion,device)  \n",
    "        \n",
    "        forward_hook_handle = model.activation.register_forward_hook(activation_hook_fn)\n",
    "        backward_hook_handle = model.activation.register_backward_hook(gradient_hook_fn)\n",
    "        \n",
    "        activation_values = []\n",
    "        activation_derivatives = []\n",
    "        _=loss_gen_pos(model, optimizer, all_loader, criterion,device) \n",
    "        cpu_actv = torch.cat(activation_values).cpu()\n",
    "        cpu_derv = torch.cat(activation_derivatives).cpu()\n",
    "\n",
    "        for idx in range(len(mols)):\n",
    "            mols[idx]['actv_pos'] = cpu_actv[idx].view(1, -1)\n",
    "            mols[idx]['derv_pos'] = cpu_derv[idx].view(1, -1)    \n",
    "\n",
    "        activation_values = []\n",
    "        activation_derivatives = []\n",
    "        _=loss_gen_neg(model, optimizer, all_loader, criterion,device) \n",
    "        cpu_actv = torch.cat(activation_values).cpu()\n",
    "        cpu_derv = torch.cat(activation_derivatives).cpu()\n",
    "\n",
    "        for idx in range(len(mols)):\n",
    "            mols[idx]['actv_neg'] = cpu_actv[idx].view(1, -1)\n",
    "            mols[idx]['derv_neg'] = cpu_derv[idx].view(1, -1)    \n",
    "\n",
    "\n",
    "        tr_loss_rec.append(t_l)\n",
    "        val_loss_rec.append(v_l)            \n",
    "\n",
    "        stop_pred = test(model, valid_loader,device)\n",
    "        vt_all_rec.append(all_stats(y_val,stop_pred).loc[0][0])\n",
    "\n",
    "        stop_res = v_l\n",
    "        stop_res2 = t_l\n",
    "\n",
    "        if(stop_std > stop_res):\n",
    "            stop_std = stop_res                \n",
    "            test_y_pred = test(model, test_loader,device)\n",
    "\n",
    "        if((i%5)==0):\n",
    "            bb = pd.DataFrame([e_num,i,str(e_num)+'_'+str(i),n_conv,activation_func,l2_coeff,lr,batch_size,float(all_stats(y_ts,test_y_pred).iloc[:,0])]).T                    \n",
    "            bb.to_csv(filename2, mode='a', header=False)    \n",
    "\n",
    "    del(model)\n",
    "    torch.cuda.empty_cache()"
   ]
  },
  {
   "cell_type": "code",
   "execution_count": 30,
   "id": "69786642",
   "metadata": {},
   "outputs": [
    {
     "name": "stdout",
     "output_type": "stream",
     "text": [
      "1 0.709997\n"
     ]
    },
    {
     "data": {
      "text/plain": [
       "[<matplotlib.lines.Line2D at 0x7f34884387c0>]"
      ]
     },
     "execution_count": 30,
     "metadata": {},
     "output_type": "execute_result"
    },
    {
     "data": {
      "image/png": "[encoded data removed]",
      "text/plain": [
       "<Figure size 1800x360 with 1 Axes>"
      ]
     },
     "metadata": {
      "needs_background": "light"
     },
     "output_type": "display_data"
    }
   ],
   "source": [
    "import matplotlib.pyplot as plt\n",
    "print(vt_all_rec.index(max(vt_all_rec)),round(max(vt_all_rec),6))\n",
    "plt.plot(vt_all_rec)"
   ]
  },
  {
   "cell_type": "code",
   "execution_count": 34,
   "id": "0ce351be",
   "metadata": {},
   "outputs": [
    {
     "data": {
      "text/plain": [
       "(0.672, 0.523, 0.146)"
      ]
     },
     "execution_count": 34,
     "metadata": {},
     "output_type": "execute_result"
    }
   ],
   "source": [
    "round(tr_loss_rec[1],3),round(tr_loss_rec[10],3),round(tr_loss_rec[40],3)"
   ]
  },
  {
   "cell_type": "code",
   "execution_count": 27,
   "id": "21964f22",
   "metadata": {},
   "outputs": [
    {
     "data": {
      "text/html": [
       "<div>\n",
       "<style scoped>\n",
       "    .dataframe tbody tr th:only-of-type {\n",
       "        vertical-align: middle;\n",
       "    }\n",
       "\n",
       "    .dataframe tbody tr th {\n",
       "        vertical-align: top;\n",
       "    }\n",
       "\n",
       "    .dataframe thead th {\n",
       "        text-align: right;\n",
       "    }\n",
       "</style>\n",
       "<table border=\"1\" class=\"dataframe\">\n",
       "  <thead>\n",
       "    <tr style=\"text-align: right;\">\n",
       "      <th></th>\n",
       "      <th>0</th>\n",
       "      <th>1</th>\n",
       "      <th>2</th>\n",
       "    </tr>\n",
       "  </thead>\n",
       "  <tbody>\n",
       "  </tbody>\n",
       "</table>\n",
       "</div>"
      ],
      "text/plain": [
       "Empty DataFrame\n",
       "Columns: [0, 1, 2]\n",
       "Index: []"
      ]
     },
     "execution_count": 27,
     "metadata": {},
     "output_type": "execute_result"
    },
    {
     "data": {
      "image/png": "[encoded data removed]",
      "text/plain": [
       "<Figure size 1800x360 with 1 Axes>"
      ]
     },
     "metadata": {
      "needs_background": "light"
     },
     "output_type": "display_data"
    }
   ],
   "source": [
    "import matplotlib.pyplot as plt\n",
    "plt.rcParams[\"figure.figsize\"] = (25,5)\n",
    "plt.plot(tr_loss_rec)\n",
    "plt.ylim([0, 1])\n",
    "pd.concat((train_rec2.mean().T,vt_rec.mean().T,test_rec2.mean().T),axis=1)"
   ]
  },
  {
   "cell_type": "code",
   "execution_count": 28,
   "id": "e198eeca",
   "metadata": {
    "scrolled": true
   },
   "outputs": [
    {
     "data": {
      "text/html": [
       "<div>\n",
       "<style scoped>\n",
       "    .dataframe tbody tr th:only-of-type {\n",
       "        vertical-align: middle;\n",
       "    }\n",
       "\n",
       "    .dataframe tbody tr th {\n",
       "        vertical-align: top;\n",
       "    }\n",
       "\n",
       "    .dataframe thead th {\n",
       "        text-align: right;\n",
       "    }\n",
       "</style>\n",
       "<table border=\"1\" class=\"dataframe\">\n",
       "  <thead>\n",
       "    <tr style=\"text-align: right;\">\n",
       "      <th></th>\n",
       "      <th>0</th>\n",
       "      <th>1</th>\n",
       "      <th>2</th>\n",
       "    </tr>\n",
       "  </thead>\n",
       "  <tbody>\n",
       "  </tbody>\n",
       "</table>\n",
       "</div>"
      ],
      "text/plain": [
       "Empty DataFrame\n",
       "Columns: [0, 1, 2]\n",
       "Index: []"
      ]
     },
     "execution_count": 28,
     "metadata": {},
     "output_type": "execute_result"
    },
    {
     "data": {
      "image/png": "[encoded data removed]",
      "text/plain": [
       "<Figure size 1800x360 with 1 Axes>"
      ]
     },
     "metadata": {
      "needs_background": "light"
     },
     "output_type": "display_data"
    }
   ],
   "source": [
    "import matplotlib.pyplot as plt\n",
    "plt.rcParams[\"figure.figsize\"] = (25,5)\n",
    "plt.plot(val_loss_rec)\n",
    "plt.ylim([0, 1])\n",
    "pd.concat((train_rec.mean().T,valid_rec.mean().T,test_rec.mean().T),axis=1)"
   ]
  },
  {
   "cell_type": "code",
   "execution_count": 29,
   "id": "b226522e",
   "metadata": {},
   "outputs": [
    {
     "data": {
      "text/html": [
       "<div>\n",
       "<style scoped>\n",
       "    .dataframe tbody tr th:only-of-type {\n",
       "        vertical-align: middle;\n",
       "    }\n",
       "\n",
       "    .dataframe tbody tr th {\n",
       "        vertical-align: top;\n",
       "    }\n",
       "\n",
       "    .dataframe thead th {\n",
       "        text-align: right;\n",
       "    }\n",
       "</style>\n",
       "<table border=\"1\" class=\"dataframe\">\n",
       "  <thead>\n",
       "    <tr style=\"text-align: right;\">\n",
       "      <th></th>\n",
       "      <th>0</th>\n",
       "      <th>1</th>\n",
       "      <th>2</th>\n",
       "    </tr>\n",
       "  </thead>\n",
       "  <tbody>\n",
       "  </tbody>\n",
       "</table>\n",
       "</div>"
      ],
      "text/plain": [
       "Empty DataFrame\n",
       "Columns: [0, 1, 2]\n",
       "Index: []"
      ]
     },
     "execution_count": 29,
     "metadata": {},
     "output_type": "execute_result"
    },
    {
     "data": {
      "image/png": "[encoded data removed]",
      "text/plain": [
       "<Figure size 1800x360 with 1 Axes>"
      ]
     },
     "metadata": {
      "needs_background": "light"
     },
     "output_type": "display_data"
    }
   ],
   "source": [
    "import matplotlib.pyplot as plt\n",
    "plt.rcParams[\"figure.figsize\"] = (25,5)\n",
    "plt.ylim([0, 1])\n",
    "pd.concat((train_rec3.mean()\n",
    "           .T,valid_rec3.mean().T,test_rec3.mean().T),axis=1)"
   ]
  },
  {
   "cell_type": "code",
   "execution_count": null,
   "id": "05820554",
   "metadata": {},
   "outputs": [],
   "source": [
    "from rdkit import Chem\n",
    "\n",
    "Chem.MolFromSmiles('CCCCCCCCCCCCC')\n"
   ]
  }
 ],
 "metadata": {
  "kernelspec": {
   "display_name": "Python 3 (ipykernel)",
   "language": "python",
   "name": "python3"
  },
  "language_info": {
   "codemirror_mode": {
    "name": "ipython",
    "version": 3
   },
   "file_extension": ".py",
   "mimetype": "text/x-python",
   "name": "python",
   "nbconvert_exporter": "python",
   "pygments_lexer": "ipython3",
   "version": "3.9.12"
  }
 },
 "nbformat": 4,
 "nbformat_minor": 5
}
